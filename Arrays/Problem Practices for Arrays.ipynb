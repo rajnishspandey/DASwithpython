{
 "cells": [
  {
   "cell_type": "raw",
   "id": "820835e5-c2eb-4072-9e49-5cf1167bde2e",
   "metadata": {},
   "source": [
    "1. Write a Python program to create an array of 5 integers and display the array items. Access individual elements through indexes.\n",
    "Sample Output:\n",
    "1\n",
    "3\n",
    "5\n",
    "7\n",
    "9\n",
    "Access first three items individually\n",
    "1\n",
    "3\n",
    "5"
   ]
  },
  {
   "cell_type": "code",
   "execution_count": 342,
   "id": "bf75da93-0a81-43b4-91aa-5234c290c692",
   "metadata": {},
   "outputs": [
    {
     "data": {
      "text/plain": [
       "[2, 5, 7]"
      ]
     },
     "execution_count": 342,
     "metadata": {},
     "output_type": "execute_result"
    }
   ],
   "source": [
    "class Solution():\n",
    "    def __init__(self):\n",
    "        self.Array = [2,5,7,8,0,4]\n",
    "        self.fetched = []\n",
    "\n",
    "    def fetchData(self, numberOfRecords):\n",
    "        for i in range(0,numberOfRecords):\n",
    "            self.fetched.append(self.Array[i])\n",
    "        return self.fetched\n",
    "\n",
    "obj = Solution()\n",
    "obj.fetchData(3)"
   ]
  },
  {
   "cell_type": "code",
   "execution_count": 224,
   "id": "c55eb460-cd60-4896-a7ad-28c6ae95ba5c",
   "metadata": {},
   "outputs": [
    {
     "name": "stdout",
     "output_type": "stream",
     "text": [
      "1\n",
      "3\n",
      "5\n",
      "7\n",
      "9\n",
      "first 3 elements of the array array('i', [1, 3, 5])\n"
     ]
    }
   ],
   "source": [
    "import array as arr\n",
    "\n",
    "array_num = arr.array('i', [1,3,5,7,9])\n",
    "\n",
    "for i in array_num:\n",
    "    print(i)\n",
    "\n",
    "print(f\"first 3 elements of the array {array_num[0:3]}\")"
   ]
  },
  {
   "cell_type": "raw",
   "id": "d71e6ffe-b6fb-4bc1-af4e-c71ac72cdb74",
   "metadata": {},
   "source": [
    "Type Codes:\n",
    "\n",
    "'b': signed integer (1 byte)\n",
    "'B': unsigned integer (1 byte)\n",
    "'u': Unicode character (2 bytes, deprecated in Python 3)\n",
    "'h': signed integer (2 bytes)\n",
    "'H': unsigned integer (2 bytes)\n",
    "'i': signed integer (usually 4 bytes)\n",
    "'I': unsigned integer (usually 4 bytes)\n",
    "'l': signed integer (4 bytes)\n",
    "'L': unsigned integer (4 bytes)\n",
    "'q': signed integer (8 bytes)\n",
    "'Q': unsigned integer (8 bytes)\n",
    "'f': floating point (4 bytes)\n",
    "'d': floating point (8 bytes)"
   ]
  },
  {
   "cell_type": "code",
   "execution_count": 226,
   "id": "a52731a8-b77a-42e2-bb59-ca64788e1d0a",
   "metadata": {},
   "outputs": [
    {
     "name": "stdout",
     "output_type": "stream",
     "text": [
      "1.0\n",
      "3.0\n",
      "5.0\n",
      "7.0\n",
      "9.0\n",
      "first 3 elements of the array array('d', [1.0, 3.0, 5.0])\n"
     ]
    }
   ],
   "source": [
    "# Example \n",
    "\n",
    "from array import *\n",
    "\n",
    "array_num = array('d', [1,3,5,7,9])\n",
    "\n",
    "for i in array_num:\n",
    "    print(i)\n",
    "\n",
    "print(f\"first 3 elements of the array {array_num[0:3]}\")"
   ]
  },
  {
   "cell_type": "code",
   "execution_count": 288,
   "id": "12b844a8-7fe1-4bb6-9124-aaae396786dd",
   "metadata": {},
   "outputs": [
    {
     "name": "stdout",
     "output_type": "stream",
     "text": [
      "1\n",
      "3\n",
      "5\n",
      "7\n",
      "9\n",
      "first 3 elements of the array array('b', [1, 3, 5])\n"
     ]
    }
   ],
   "source": [
    "array_num = array('b', [1,3,5,7,9])\n",
    "\n",
    "for i in array_num:\n",
    "    print(i)\n",
    "\n",
    "print(f\"first 3 elements of the array {array_num[0:3]}\")"
   ]
  },
  {
   "cell_type": "markdown",
   "id": "969fbdfd-4d97-41da-9a81-394902ab1efa",
   "metadata": {},
   "source": [
    "### 2. Write a Python program to reverse the order of the items in the array."
   ]
  },
  {
   "cell_type": "code",
   "execution_count": 475,
   "id": "1f7589b2-df1e-46d3-af77-763863ec85d4",
   "metadata": {},
   "outputs": [
    {
     "name": "stdout",
     "output_type": "stream",
     "text": [
      "[3, 9, 1, 7, 3, 5, 3, 1]\n"
     ]
    }
   ],
   "source": [
    "def reverseArray(array):\n",
    "    reversedArray = []\n",
    "    for i in range(len(array)-1,-1,-1):\n",
    "        reversedArray.append(array[i])\n",
    "    return reversedArray\n",
    "        \n",
    "\n",
    "print(reverseArray([1, 3, 5, 3, 7, 1, 9, 3]))"
   ]
  },
  {
   "cell_type": "code",
   "execution_count": 477,
   "id": "b98bd401-e650-4d32-b1bd-ecff315f00d3",
   "metadata": {},
   "outputs": [
    {
     "name": "stdout",
     "output_type": "stream",
     "text": [
      "array('i', [3, 9, 1, 7, 3, 5, 3, 1])\n"
     ]
    }
   ],
   "source": [
    "from array import *\n",
    "array_num = array('i', [1, 3, 5, 3, 7, 1, 9, 3])\n",
    "array_num.reverse()\n",
    "print(str(array_num))\n"
   ]
  },
  {
   "cell_type": "markdown",
   "id": "218fe3ed-5df3-4579-9cf2-4b69fe82e9f4",
   "metadata": {},
   "source": [
    "# leetcode\n"
   ]
  },
  {
   "cell_type": "code",
   "execution_count": 514,
   "id": "8d2674d6-817c-4680-9cf8-fb8573429ba4",
   "metadata": {},
   "outputs": [
    {
     "data": {
      "text/plain": [
       "[1, 2, 1, 1, 2, 1]"
      ]
     },
     "execution_count": 514,
     "metadata": {},
     "output_type": "execute_result"
    }
   ],
   "source": [
    "class Solution:\n",
    "    def getConcatenation(self, nums):\n",
    "        ans = []\n",
    "        for i in range(len(nums)):\n",
    "            ans.append(nums[i])            \n",
    "        ans.extend(ans)\n",
    "        return ans\n",
    "\n",
    "\n",
    "obj = Solution()\n",
    "obj.getConcatenation([1,2,1])"
   ]
  },
  {
   "cell_type": "markdown",
   "id": "c24e0b2b-af02-472e-9a91-4e1bb03bd4c4",
   "metadata": {},
   "source": [
    "# leetcode\n",
    "\n",
    "## [Median of Two Sorted Arrays](https://leetcode.com/problems/median-of-two-sorted-arrays/description/)"
   ]
  },
  {
   "cell_type": "code",
   "execution_count": 559,
   "id": "6b1019da-6885-4bb2-b727-d4f33a2834dd",
   "metadata": {},
   "outputs": [
    {
     "data": {
      "text/plain": [
       "2"
      ]
     },
     "execution_count": 559,
     "metadata": {},
     "output_type": "execute_result"
    }
   ],
   "source": [
    "import statistics\n",
    "class Solution(object):\n",
    "    def findMedianSortedArrays(self, nums1, nums2):\n",
    "        nums3 = nums1 + nums2\n",
    "        return statistics.median(nums3)\n",
    "\n",
    "obj = Solution()\n",
    "obj.findMedianSortedArrays([1,3],[2])"
   ]
  },
  {
   "cell_type": "markdown",
   "id": "76caf78d-544f-431e-987b-013e8e49df3c",
   "metadata": {},
   "source": [
    "# reverse a astring"
   ]
  },
  {
   "cell_type": "code",
   "execution_count": 582,
   "id": "61c556b6-c065-47ea-a4e5-484875abeb6f",
   "metadata": {},
   "outputs": [
    {
     "data": {
      "text/plain": [
       "'hsinjaR'"
      ]
     },
     "execution_count": 582,
     "metadata": {},
     "output_type": "execute_result"
    }
   ],
   "source": [
    "\n",
    "\n",
    "def reverseString(string):\n",
    "    reversedString = \"\"\n",
    "    for i in range(len(string)-1,-1,-1):\n",
    "        reversedString += string[i] #O(n2)\n",
    "        \"\"\"\n",
    "        String concatenation inside a loop is O(n2) because each \n",
    "        concatenation creates a new string and copies the old contents.\n",
    "        \"\"\"\n",
    "    return reversedString\n",
    "\n",
    "\n",
    "reverseString(\"Rajnish\")"
   ]
  },
  {
   "cell_type": "code",
   "execution_count": 586,
   "id": "842e922a-ebc0-4835-b273-0733511d6d3d",
   "metadata": {},
   "outputs": [
    {
     "data": {
      "text/plain": [
       "'hsinjaR'"
      ]
     },
     "execution_count": 586,
     "metadata": {},
     "output_type": "execute_result"
    }
   ],
   "source": [
    "# reverse a astring\n",
    "\n",
    "def reverseString(string):\n",
    "    reversedString = []\n",
    "    for i in range(len(string)-1,-1,-1):\n",
    "        reversedString.append(string[i]) #O(n)\n",
    "    return ''.join(reversedString) #O(n)\n",
    "\n",
    "\n",
    "reverseString(\"Rajnish\") #overall O(n)"
   ]
  },
  {
   "cell_type": "code",
   "execution_count": 590,
   "id": "a8976d11-be69-4749-91d4-851b000d3715",
   "metadata": {},
   "outputs": [
    {
     "data": {
      "text/plain": [
       "'hsinjaR'"
      ]
     },
     "execution_count": 590,
     "metadata": {},
     "output_type": "execute_result"
    }
   ],
   "source": [
    "def reverseString(string):\n",
    "    return string[::-1] # O(n)\n",
    "\n",
    "reverseString(\"Rajnish\")"
   ]
  },
  {
   "cell_type": "code",
   "execution_count": 608,
   "id": "9b877545-9d95-4d59-b21f-48a7d27c3eb0",
   "metadata": {},
   "outputs": [
    {
     "name": "stdout",
     "output_type": "stream",
     "text": [
      "Method 1 Time: 0.0006952285766601562\n",
      "Method 2 Time: 0.002090930938720703\n",
      "Method 3 Time: 0.00013208389282226562\n"
     ]
    }
   ],
   "source": [
    "import time\n",
    "\n",
    "# Method 1: Using a list and join\n",
    "def reverseString1(string):\n",
    "    reversedString = []\n",
    "    for i in range(len(string)-1, -1, -1):\n",
    "        reversedString.append(string[i])\n",
    "    return ''.join(reversedString)\n",
    "\n",
    "# Method 2: Using string concatenation\n",
    "def reverseString2(string):\n",
    "    reversedString = \"\"\n",
    "    for i in range(len(string)-1, -1, -1):\n",
    "        reversedString += string[i]\n",
    "    return reversedString\n",
    "\n",
    "# Method 3: Using slicing\n",
    "def reverseString3(string):\n",
    "    return string[::-1]\n",
    "\n",
    "# Test string\n",
    "test_string = \"Rajnish\" * 1000\n",
    "\n",
    "# Timing Method 1\n",
    "start = time.time()\n",
    "reverseString1(test_string)\n",
    "end = time.time()\n",
    "print(\"Method 1 Time:\", end - start)\n",
    "\n",
    "# Timing Method 2\n",
    "start = time.time()\n",
    "reverseString2(test_string)\n",
    "end = time.time()\n",
    "print(\"Method 2 Time:\", end - start)\n",
    "\n",
    "# Timing Method 3\n",
    "start = time.time()\n",
    "reverseString3(test_string)\n",
    "end = time.time()\n",
    "print(\"Method 3 Time:\", end - start)"
   ]
  },
  {
   "cell_type": "raw",
   "id": "f724bd45-d1ac-4971-bb80-6c7a2bf12aab",
   "metadata": {},
   "source": [
    "\"\"\"\n",
    "Method 1: Using a List and join\n",
    "\n",
    "Time: ~0.0007 seconds\n",
    "Performance: Efficient due to O(n) time complexity but slower than slicing.\n",
    "Method 2: Using String Concatenation\n",
    "\n",
    "Time: ~0.0021 seconds\n",
    "Performance: Inefficient due to O(n^2) time complexity.\n",
    "Method 3: Using Slicing\n",
    "\n",
    "Time: ~~0.00013 seconds\n",
    "Performance: Most efficient with O(n) time complexity.\n",
    "\"\"\""
   ]
  },
  {
   "cell_type": "code",
   "execution_count": 620,
   "id": "3384cd6c-df46-468b-b813-6685876fc66f",
   "metadata": {},
   "outputs": [
    {
     "name": "stdout",
     "output_type": "stream",
     "text": [
      "i : 0\n",
      "j : 1\n",
      "j : 2\n",
      "j : 3\n"
     ]
    },
    {
     "data": {
      "text/plain": [
       "[0, 3]"
      ]
     },
     "execution_count": 620,
     "metadata": {},
     "output_type": "execute_result"
    }
   ],
   "source": [
    "# two sum  - bruteForce technique\n",
    "def twoSum(num, target):\n",
    "    for i in range(len(num)): #O(n)\n",
    "        print(\"i :\", i)\n",
    "        for j in range(i+1, len(num)): #O(n2)\n",
    "            print(\"j :\", j)\n",
    "            if num[i] + num[j] == target:\n",
    "                return [i,j]\n",
    "    return None\n",
    "\n",
    "\n",
    "twoSum([1,2,3,4,5],5)"
   ]
  },
  {
   "cell_type": "code",
   "execution_count": null,
   "id": "0bbd0e7e-c120-4071-860e-41c19f80a6d8",
   "metadata": {},
   "outputs": [],
   "source": []
  }
 ],
 "metadata": {
  "kernelspec": {
   "display_name": "Python 3 (ipykernel)",
   "language": "python",
   "name": "python3"
  },
  "language_info": {
   "codemirror_mode": {
    "name": "ipython",
    "version": 3
   },
   "file_extension": ".py",
   "mimetype": "text/x-python",
   "name": "python",
   "nbconvert_exporter": "python",
   "pygments_lexer": "ipython3",
   "version": "3.12.4"
  }
 },
 "nbformat": 4,
 "nbformat_minor": 5
}
