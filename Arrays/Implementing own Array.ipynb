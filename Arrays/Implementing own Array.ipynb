{
 "cells": [
  {
   "cell_type": "code",
   "execution_count": 141,
   "id": "047fb866-04ed-4703-b0db-76712c396397",
   "metadata": {},
   "outputs": [
    {
     "name": "stdout",
     "output_type": "stream",
     "text": [
      "checking the range: range(0, 2)\n",
      "XYZ\n",
      "IJK\n"
     ]
    },
    {
     "data": {
      "text/plain": [
       "\"{'length': 3, 'data': {0: 'Man', 1: 'XYZ', 2: 'IJK'}}\""
      ]
     },
     "execution_count": 141,
     "metadata": {},
     "output_type": "execute_result"
    }
   ],
   "source": [
    "class MyArray():\n",
    "    def __init__(self):\n",
    "        self.length = 0\n",
    "        self.data = {}\n",
    "\n",
    "    def __str__(self):\n",
    "        return str(self.__dict__)\n",
    "\n",
    "    def get(self, index):\n",
    "        return self.data[index] #O(1)\n",
    "\n",
    "    def push(self,item):\n",
    "        self.data[self.length] = item\n",
    "        self.length += 1\n",
    "\n",
    "    def pop(self):\n",
    "        lastitem = self.data[self.length-1] #Collects the last element\n",
    "        del self.data[self.length-1] #Deletes the last element from the array\n",
    "        self.length -= 1 #Decrements the length attribute of the array by 1\n",
    "        return lastitem #Returns the popped element. O(1) time\n",
    "\n",
    "    def delete(self, index):\n",
    "        print(f\"checking the range: {range(index, self.length-1)}\")\n",
    "        for i in range(index, self.length-1):\n",
    "            self.data[i] = self.data[i+1]\n",
    "            print(self.data[i])\n",
    "        del self.data[self.length-1]\n",
    "        self.length -= 1\n",
    "\n",
    "    def insert(self, index, item):\n",
    "        self.length += 1\n",
    "        for i in range(self.length-1,index, -1):\n",
    "            self.data[i] = self.data[i-1]\n",
    "        self.data[index] = item\n",
    "        \n",
    "\n",
    "obj = MyArray()\n",
    "obj.push(\"ABC\")\n",
    "obj.push(\"XYZ\")\n",
    "obj.push(\"IJK\")\n",
    "str(obj)\n",
    "\n",
    "# print(obj.pop())\n",
    "obj.delete(0)\n",
    "obj.insert(0,\"Man\")\n",
    "str(obj)\n",
    "# obj.get(0)"
   ]
  }
 ],
 "metadata": {
  "kernelspec": {
   "display_name": "Python 3 (ipykernel)",
   "language": "python",
   "name": "python3"
  },
  "language_info": {
   "codemirror_mode": {
    "name": "ipython",
    "version": 3
   },
   "file_extension": ".py",
   "mimetype": "text/x-python",
   "name": "python",
   "nbconvert_exporter": "python",
   "pygments_lexer": "ipython3",
   "version": "3.12.4"
  }
 },
 "nbformat": 4,
 "nbformat_minor": 5
}
