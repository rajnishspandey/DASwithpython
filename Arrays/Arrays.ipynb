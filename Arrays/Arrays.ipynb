{
 "cells": [
  {
   "cell_type": "markdown",
   "id": "748f9971-8fe1-4c21-b91e-45d0508a6d83",
   "metadata": {},
   "source": [
    "# Data Structure - Arrays"
   ]
  },
  {
   "cell_type": "markdown",
   "id": "b79f874e-b355-449b-bf85-cc61453a689d",
   "metadata": {},
   "source": [
    "## [Official Document on Arrays](https://docs.python.org/3/tutorial/datastructures.html)"
   ]
  },
  {
   "cell_type": "code",
   "execution_count": 308,
   "id": "514eacd7-a05e-452d-b7ef-649c57e4f8b7",
   "metadata": {},
   "outputs": [],
   "source": [
    "fruits = ['orange', 'apple', 'pear', 'banana', 'kiwi', 'apple', 'banana']"
   ]
  },
  {
   "cell_type": "code",
   "execution_count": 310,
   "id": "d3584e15-70da-4a2a-acfe-85d26a0a311f",
   "metadata": {},
   "outputs": [
    {
     "data": {
      "text/plain": [
       "['orange', 'apple', 'pear', 'banana', 'kiwi', 'apple', 'banana']"
      ]
     },
     "execution_count": 310,
     "metadata": {},
     "output_type": "execute_result"
    }
   ],
   "source": [
    "fruits"
   ]
  },
  {
   "cell_type": "markdown",
   "id": "5aabbe37-7610-4e1c-89bd-a8562fcef8b8",
   "metadata": {},
   "source": [
    "#### 1 .append(x) - Adds an element at the end of the list"
   ]
  },
  {
   "cell_type": "code",
   "execution_count": 313,
   "id": "6b12d55d-42a4-4f4a-aad4-54b11fca6a66",
   "metadata": {},
   "outputs": [],
   "source": [
    "fruits.append(['fruit1', 'fruit2'])"
   ]
  },
  {
   "cell_type": "code",
   "execution_count": 315,
   "id": "72dbf3b1-22a6-4901-aadf-ec9ba674416f",
   "metadata": {},
   "outputs": [
    {
     "data": {
      "text/plain": [
       "['orange',\n",
       " 'apple',\n",
       " 'pear',\n",
       " 'banana',\n",
       " 'kiwi',\n",
       " 'apple',\n",
       " 'banana',\n",
       " ['fruit1', 'fruit2']]"
      ]
     },
     "execution_count": 315,
     "metadata": {},
     "output_type": "execute_result"
    }
   ],
   "source": [
    "fruits"
   ]
  },
  {
   "cell_type": "markdown",
   "id": "40fca3e2-8ea2-462e-bb95-01c9b4a3b413",
   "metadata": {},
   "source": [
    "#### 2 .pop(i) - removes the last elemet and returns the value. It raises an IndexError if the list is empty or the index is outside the list range."
   ]
  },
  {
   "cell_type": "code",
   "execution_count": 318,
   "id": "99d669d1-72b8-442f-8590-b52bd3a5ea56",
   "metadata": {},
   "outputs": [
    {
     "data": {
      "text/plain": [
       "['fruit1', 'fruit2']"
      ]
     },
     "execution_count": 318,
     "metadata": {},
     "output_type": "execute_result"
    }
   ],
   "source": [
    "popeddata = fruits.pop() \n",
    "popeddata"
   ]
  },
  {
   "cell_type": "code",
   "execution_count": 320,
   "id": "59aceb26-4ea9-4979-b6b5-f85a7462161f",
   "metadata": {},
   "outputs": [
    {
     "data": {
      "text/plain": [
       "['orange', 'apple', 'pear', 'banana', 'kiwi', 'apple', 'banana']"
      ]
     },
     "execution_count": 320,
     "metadata": {},
     "output_type": "execute_result"
    }
   ],
   "source": [
    "fruits"
   ]
  },
  {
   "cell_type": "markdown",
   "id": "cad70978-7f5e-41d2-ab1f-79ba88d8d704",
   "metadata": {},
   "source": [
    "#### 3 .extend(iterable) - Add the elements of a list (or any iterable), to the end of the current list"
   ]
  },
  {
   "cell_type": "code",
   "execution_count": 323,
   "id": "7af0eb3c-b5dd-4b91-9bc8-06a5c5a34894",
   "metadata": {},
   "outputs": [],
   "source": [
    "fruits.extend(['fruit1', 'fruit2'])"
   ]
  },
  {
   "cell_type": "code",
   "execution_count": 325,
   "id": "e2336a6f-93d3-42bb-9686-c7e7a0156c10",
   "metadata": {},
   "outputs": [
    {
     "data": {
      "text/plain": [
       "['orange',\n",
       " 'apple',\n",
       " 'pear',\n",
       " 'banana',\n",
       " 'kiwi',\n",
       " 'apple',\n",
       " 'banana',\n",
       " 'fruit1',\n",
       " 'fruit2']"
      ]
     },
     "execution_count": 325,
     "metadata": {},
     "output_type": "execute_result"
    }
   ],
   "source": [
    "fruits"
   ]
  },
  {
   "cell_type": "markdown",
   "id": "8a48442b-7f4c-4ab0-a323-0b6da2ab205a",
   "metadata": {},
   "source": [
    "#### 4 .copy()\tReturn a shallow copy of the list. Equivalent to a[:]."
   ]
  },
  {
   "cell_type": "code",
   "execution_count": 328,
   "id": "b0cc740d-ce18-4282-993c-3bf75f3b897e",
   "metadata": {},
   "outputs": [],
   "source": [
    "fruits2 = fruits.copy()"
   ]
  },
  {
   "cell_type": "code",
   "execution_count": 330,
   "id": "9f7beddc-ce6f-4411-82e1-97da0be8c777",
   "metadata": {},
   "outputs": [
    {
     "data": {
      "text/plain": [
       "['orange',\n",
       " 'apple',\n",
       " 'pear',\n",
       " 'banana',\n",
       " 'kiwi',\n",
       " 'apple',\n",
       " 'banana',\n",
       " 'fruit1',\n",
       " 'fruit2']"
      ]
     },
     "execution_count": 330,
     "metadata": {},
     "output_type": "execute_result"
    }
   ],
   "source": [
    "fruits2"
   ]
  },
  {
   "cell_type": "markdown",
   "id": "e221a704-7ba7-4627-affa-a4a1d8d60a66",
   "metadata": {},
   "source": [
    "#### 5 .count(x)\tReturns the number of elements with the specified value"
   ]
  },
  {
   "cell_type": "code",
   "execution_count": 333,
   "id": "a8d933c4-56ab-456f-851b-cb56faea693d",
   "metadata": {},
   "outputs": [
    {
     "data": {
      "text/plain": [
       "1"
      ]
     },
     "execution_count": 333,
     "metadata": {},
     "output_type": "execute_result"
    }
   ],
   "source": [
    "fruits.count(\"orange\")"
   ]
  },
  {
   "cell_type": "markdown",
   "id": "557c73fa-0dcd-4936-8986-9a53723c594e",
   "metadata": {},
   "source": [
    "#### 6 .index(x[, start[, end]])\tReturns the index of the first element with the specified value. it Raises a ValueError if there is no such item."
   ]
  },
  {
   "cell_type": "code",
   "execution_count": 336,
   "id": "9792ade5-9df1-4458-8576-587251088418",
   "metadata": {},
   "outputs": [
    {
     "data": {
      "text/plain": [
       "1"
      ]
     },
     "execution_count": 336,
     "metadata": {},
     "output_type": "execute_result"
    }
   ],
   "source": [
    "fruits.index('apple')"
   ]
  },
  {
   "cell_type": "markdown",
   "id": "3c1355cc-413e-4e84-bf11-80cba5191411",
   "metadata": {},
   "source": [
    "#### 7 .insert(i, x)\tAdds an element at the specified position"
   ]
  },
  {
   "cell_type": "code",
   "execution_count": 339,
   "id": "f53169f7-f365-4715-b887-58dcf9dec6dd",
   "metadata": {},
   "outputs": [],
   "source": [
    "fruits.insert(1,'Testing')"
   ]
  },
  {
   "cell_type": "code",
   "execution_count": 341,
   "id": "57423266-dd18-49b0-a457-97e24ca7b3cf",
   "metadata": {},
   "outputs": [
    {
     "data": {
      "text/plain": [
       "['orange',\n",
       " 'Testing',\n",
       " 'apple',\n",
       " 'pear',\n",
       " 'banana',\n",
       " 'kiwi',\n",
       " 'apple',\n",
       " 'banana',\n",
       " 'fruit1',\n",
       " 'fruit2']"
      ]
     },
     "execution_count": 341,
     "metadata": {},
     "output_type": "execute_result"
    }
   ],
   "source": [
    "fruits"
   ]
  },
  {
   "cell_type": "markdown",
   "id": "2f2d5af7-bfea-45d6-b85c-d8ed39a88305",
   "metadata": {},
   "source": [
    "#### 8 .remove(x) - Remove the first item from the list whose value is equal to x. It raises a ValueError if there is no such item."
   ]
  },
  {
   "cell_type": "code",
   "execution_count": 344,
   "id": "a3ec4017-efb5-4b16-aeea-5cb4402ea3ec",
   "metadata": {},
   "outputs": [],
   "source": [
    "fruits.remove('Testing')"
   ]
  },
  {
   "cell_type": "code",
   "execution_count": 346,
   "id": "09fd0104-ea6c-4403-80e8-1be0221f96e5",
   "metadata": {},
   "outputs": [
    {
     "data": {
      "text/plain": [
       "['orange',\n",
       " 'apple',\n",
       " 'pear',\n",
       " 'banana',\n",
       " 'kiwi',\n",
       " 'apple',\n",
       " 'banana',\n",
       " 'fruit1',\n",
       " 'fruit2']"
      ]
     },
     "execution_count": 346,
     "metadata": {},
     "output_type": "execute_result"
    }
   ],
   "source": [
    "fruits"
   ]
  },
  {
   "cell_type": "markdown",
   "id": "5763ab6f-6d98-4ddb-a8f5-41947fa61d81",
   "metadata": {},
   "source": [
    "#### 9 .reverse()\tReverses the order of the list"
   ]
  },
  {
   "cell_type": "code",
   "execution_count": 349,
   "id": "8173f774-310d-49e9-a835-d15b7c1d0877",
   "metadata": {},
   "outputs": [],
   "source": [
    "fruits.reverse()"
   ]
  },
  {
   "cell_type": "code",
   "execution_count": 351,
   "id": "50ff8b9b-11a7-4d21-9e9d-a24c564f1e56",
   "metadata": {},
   "outputs": [
    {
     "data": {
      "text/plain": [
       "['fruit2',\n",
       " 'fruit1',\n",
       " 'banana',\n",
       " 'apple',\n",
       " 'kiwi',\n",
       " 'banana',\n",
       " 'pear',\n",
       " 'apple',\n",
       " 'orange']"
      ]
     },
     "execution_count": 351,
     "metadata": {},
     "output_type": "execute_result"
    }
   ],
   "source": [
    "fruits"
   ]
  },
  {
   "cell_type": "markdown",
   "id": "f0df5737-af2d-4658-b059-9bcac9da4c95",
   "metadata": {},
   "source": [
    "#### 10 .sort(*, key=None, reverse=False)\tSorts the list"
   ]
  },
  {
   "cell_type": "code",
   "execution_count": 354,
   "id": "45f244be-807f-4b06-8762-0ab18c936b9c",
   "metadata": {},
   "outputs": [],
   "source": [
    "fruits.sort()"
   ]
  },
  {
   "cell_type": "code",
   "execution_count": 356,
   "id": "f2a9e6e9-b678-4161-bfa1-95031ad29b8b",
   "metadata": {},
   "outputs": [
    {
     "data": {
      "text/plain": [
       "['apple',\n",
       " 'apple',\n",
       " 'banana',\n",
       " 'banana',\n",
       " 'fruit1',\n",
       " 'fruit2',\n",
       " 'kiwi',\n",
       " 'orange',\n",
       " 'pear']"
      ]
     },
     "execution_count": 356,
     "metadata": {},
     "output_type": "execute_result"
    }
   ],
   "source": [
    "fruits"
   ]
  },
  {
   "cell_type": "markdown",
   "id": "a2dc981a-6200-4fc2-a69a-c08a7a7196a5",
   "metadata": {},
   "source": [
    "#### 11. clear() Remove all items from the list. Equivalent to del a[:]."
   ]
  },
  {
   "cell_type": "code",
   "execution_count": 358,
   "id": "9dfbf211-0da1-4986-8044-c438d49f4d9f",
   "metadata": {},
   "outputs": [],
   "source": [
    "fruits.clear()"
   ]
  },
  {
   "cell_type": "code",
   "execution_count": 360,
   "id": "f93129eb-f26d-44f5-b725-41680b3b1bf6",
   "metadata": {},
   "outputs": [
    {
     "data": {
      "text/plain": [
       "[]"
      ]
     },
     "execution_count": 360,
     "metadata": {},
     "output_type": "execute_result"
    }
   ],
   "source": [
    "fruits"
   ]
  }
 ],
 "metadata": {
  "kernelspec": {
   "display_name": "Python 3 (ipykernel)",
   "language": "python",
   "name": "python3"
  },
  "language_info": {
   "codemirror_mode": {
    "name": "ipython",
    "version": 3
   },
   "file_extension": ".py",
   "mimetype": "text/x-python",
   "name": "python",
   "nbconvert_exporter": "python",
   "pygments_lexer": "ipython3",
   "version": "3.12.4"
  }
 },
 "nbformat": 4,
 "nbformat_minor": 5
}
